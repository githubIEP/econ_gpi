{
 "cells": [
  {
   "cell_type": "code",
   "execution_count": 8,
   "id": "70fed78f",
   "metadata": {},
   "outputs": [],
   "source": [
    "import pandas as pd\n",
    "from sklearn.model_selection import train_test_split, GridSearchCV\n",
    "from sklearn.metrics import accuracy_score\n",
    "from sklearn.preprocessing import LabelEncoder\n",
    "from imblearn.over_sampling import RandomOverSampler\n",
    "from sklearn.ensemble import RandomForestClassifier\n",
    "import matplotlib.pyplot as plt"
   ]
  },
  {
   "cell_type": "code",
   "execution_count": 14,
   "id": "68a2aef9",
   "metadata": {},
   "outputs": [],
   "source": [
    "# Expanded hyperparameters for RandomForest\n",
    "hyperparameters = {\n",
    "    'n_estimators': [100, 150],  # Number of trees in the forest\n",
    "    'max_depth': [6, 8],    # Maximum depth of the tree, 'None' means no limit\n",
    "    'min_samples_split': [2, 5], # Minimum number of samples required to split an internal node\n",
    "    'min_samples_leaf': [1, 2],   # Minimum number of samples required to be at a leaf node\n",
    "    'max_features': ['sqrt','log2'],  # Number of features to consider when looking for the best split\n",
    "    'bootstrap': [True, False]       # Whether bootstrap samples are used when building trees\n",
    "}\n"
   ]
  },
  {
   "cell_type": "code",
   "execution_count": 15,
   "id": "0f524d42",
   "metadata": {},
   "outputs": [],
   "source": [
    "### --- Functions\n",
    "\n",
    "# Load and process datasets\n",
    "def pf_LoadClean(filepath):\n",
    "    \"\"\"Load and preprocess the dataset.\"\"\"\n",
    "    # Load data\n",
    "    df = pd.read_csv(filepath)\n",
    "\n",
    "    # Remove groups with 5 or fewer instances\n",
    "    group_counts = df['Group'].value_counts()\n",
    "    df = df[df['Group'].isin(group_counts[group_counts > 5].index)]\n",
    "\n",
    "    # Encode categorical variables\n",
    "    df = pd.get_dummies(df, columns=ML_CATEGORICAL)\n",
    "\n",
    "    # Label Encoding for the target variable\n",
    "    label_encoder = LabelEncoder()\n",
    "    df['Group'] = label_encoder.fit_transform(df['Group'])\n",
    "\n",
    "    return df, label_encoder\n",
    "\n",
    "\n",
    "def pf_TrainModel(df, target_variable, hyperparameters):\n",
    "    # Drop rows with NaN values\n",
    "    df = df.dropna()\n",
    "\n",
    "    X = df.drop(target_variable, axis=1)\n",
    "    y = df[target_variable]\n",
    "\n",
    "    # Split data into train and test sets\n",
    "    X_train, X_test, y_train, y_test = train_test_split(X, y, test_size=0.2, random_state=123)\n",
    "\n",
    "    # Upsampling\n",
    "    ros = RandomOverSampler(random_state=123)\n",
    "    X_train_resampled, y_train_resampled = ros.fit_resample(X_train, y_train)\n",
    "\n",
    "    # Initialize RandomForest classifier\n",
    "    model = RandomForestClassifier()\n",
    "\n",
    "    # Grid search for hyperparameter tuning\n",
    "    clf = GridSearchCV(model, hyperparameters, scoring='accuracy', cv=5)\n",
    "    clf.fit(X_train_resampled, y_train_resampled)\n",
    "\n",
    "    return clf, X_test, y_test\n",
    "\n",
    "# Function to plot feature importance for RandomForest\n",
    "def pf_Plot_FeatureImportance(clf):\n",
    "    \"\"\"Plot feature importance of the model.\"\"\"\n",
    "    feature_importance = clf.best_estimator_.feature_importances_\n",
    "    sorted_idx = feature_importance.argsort()\n",
    "    plt.barh(range(len(sorted_idx)), feature_importance[sorted_idx])\n",
    "    plt.xlabel(\"Random Forest Feature Importance\")\n",
    "    plt.show()\n",
    "\n",
    "def pf_EvaluateModel(clf, X_test, y_test, group_encoder):\n",
    "    predictions = clf.predict(X_test)\n",
    "\n",
    "    # Convert numeric predictions back to original labels\n",
    "    original_labels = group_encoder.inverse_transform(predictions)\n",
    "\n",
    "    accuracy = accuracy_score(y_test, predictions)\n",
    "    print(f\"Model Accuracy: {accuracy:.2f}\")\n",
    "\n",
    "    return accuracy, original_labels"
   ]
  },
  {
   "cell_type": "code",
   "execution_count": 16,
   "id": "25e04a9d",
   "metadata": {},
   "outputs": [],
   "source": [
    "# Categorical Variables\n",
    "ML_CATEGORICAL = [\"geocode\", \"the_west\", \"event_type\", \"is_claimed\", \"suicide\", \"targets\", \"weapons\", \n",
    "\"intensity\", \"conflict\", \"admin_ID\"]\n",
    "\n",
    "TRAINING_DATA = \"../../../02_data/processed/ml_testtraining.csv\""
   ]
  },
  {
   "cell_type": "code",
   "execution_count": 17,
   "id": "665f1edc",
   "metadata": {},
   "outputs": [],
   "source": [
    "# Load and preprocess data\n",
    "df_evaluate, group_encoder = pf_LoadClean(TRAINING_DATA)"
   ]
  },
  {
   "cell_type": "code",
   "execution_count": 20,
   "id": "91f396ba",
   "metadata": {
    "scrolled": true
   },
   "outputs": [],
   "source": [
    "# Train the model\n",
    "clf, X_test, y_test = pf_TrainModel(df_evaluate, 'Group', hyperparameters)"
   ]
  },
  {
   "cell_type": "code",
   "execution_count": 21,
   "id": "1b83807a",
   "metadata": {},
   "outputs": [
    {
     "name": "stdout",
     "output_type": "stream",
     "text": [
      "Model Accuracy: 0.55\n",
      "Original Labels of Predictions: ['Shia militia (undefined)' 'Abu Sayyaf'\n",
      " 'Islamic State West Africa (ISWA)' ... 'Wrath of Olives'\n",
      " 'Auto Defensas (AUC)' 'Anti-junta armed group (undetermined)']\n"
     ]
    }
   ],
   "source": [
    "# Evaluate the model and get original labels of predictions\n",
    "accuracy, original_labels = pf_EvaluateModel(clf, X_test, y_test, group_encoder)\n",
    "\n",
    "# Print original labels of predictions\n",
    "print(\"Original Labels of Predictions:\", original_labels)"
   ]
  },
  {
   "cell_type": "code",
   "execution_count": 22,
   "id": "c7623b57",
   "metadata": {
    "scrolled": true
   },
   "outputs": [
    {
     "data": {
      "image/png": "[encoded data removed]",
      "text/plain": [
       "<Figure size 640x480 with 1 Axes>"
      ]
     },
     "metadata": {},
     "output_type": "display_data"
    }
   ],
   "source": [
    "# Plot feature importance\n",
    "pf_Plot_FeatureImportance(clf)"
   ]
  },
  {
   "cell_type": "code",
   "execution_count": 24,
   "id": "67cd9f7d",
   "metadata": {},
   "outputs": [],
   "source": [
    "def pf_PredictNewData(filepath, clf, group_encoder):\n",
    "    # Preprocess new data\n",
    "    df_new, _ = pf_LoadClean(filepath)  # No need for the label encoder here\n",
    "    X_new = df_new.drop('Group', axis=1)  # Assuming 'Group' is the target variable\n",
    "\n",
    "    # Predict using the trained model\n",
    "    predictions_new = clf.predict(X_new)\n",
    "\n",
    "    # Convert numeric predictions back to original labels\n",
    "    original_labels_new = group_encoder.inverse_transform(predictions_new)\n",
    "\n",
    "    return original_labels_new"
   ]
  },
  {
   "cell_type": "code",
   "execution_count": 25,
   "id": "3da28e83",
   "metadata": {},
   "outputs": [],
   "source": [
    "# Filepath for the new data\n",
    "NEW_DATA = \"../../../02_data/processed/ml_final.csv\"\n",
    "\n"
   ]
  },
  {
   "cell_type": "code",
   "execution_count": 26,
   "id": "ef000598",
   "metadata": {},
   "outputs": [
    {
     "ename": "ValueError",
     "evalue": "The feature names should match those that were passed during fit.\nFeature names unseen at fit time:\n- admin_ID_ALB.12_1\n- admin_ID_ALB.9_1\n- admin_ID_ARM.7_1\n- admin_ID_AUS.5_1\n- admin_ID_BDI.10_1\n- ...\nFeature names seen at fit time, yet now missing:\n- admin_ID_AGO.4_1\n- admin_ID_AGO.6_1\n- admin_ID_ARG.4_1\n- admin_ID_ARG.6_1\n- admin_ID_AUS.10_1\n- ...\n",
     "output_type": "error",
     "traceback": [
      "\u001b[1;31m---------------------------------------------------------------------------\u001b[0m",
      "\u001b[1;31mValueError\u001b[0m                                Traceback (most recent call last)",
      "Cell \u001b[1;32mIn[26], line 1\u001b[0m\n\u001b[1;32m----> 1\u001b[0m predicted_labels \u001b[38;5;241m=\u001b[39m pf_PredictNewData(NEW_DATA, clf, group_encoder)\n",
      "Cell \u001b[1;32mIn[24], line 7\u001b[0m, in \u001b[0;36mpf_PredictNewData\u001b[1;34m(filepath, clf, group_encoder)\u001b[0m\n\u001b[0;32m      4\u001b[0m X_new \u001b[38;5;241m=\u001b[39m df_new\u001b[38;5;241m.\u001b[39mdrop(\u001b[38;5;124m'\u001b[39m\u001b[38;5;124mGroup\u001b[39m\u001b[38;5;124m'\u001b[39m, axis\u001b[38;5;241m=\u001b[39m\u001b[38;5;241m1\u001b[39m)  \u001b[38;5;66;03m# Assuming 'Group' is the target variable\u001b[39;00m\n\u001b[0;32m      6\u001b[0m \u001b[38;5;66;03m# Predict using the trained model\u001b[39;00m\n\u001b[1;32m----> 7\u001b[0m predictions_new \u001b[38;5;241m=\u001b[39m clf\u001b[38;5;241m.\u001b[39mpredict(X_new)\n\u001b[0;32m      9\u001b[0m \u001b[38;5;66;03m# Convert numeric predictions back to original labels\u001b[39;00m\n\u001b[0;32m     10\u001b[0m original_labels_new \u001b[38;5;241m=\u001b[39m group_encoder\u001b[38;5;241m.\u001b[39minverse_transform(predictions_new)\n",
      "File \u001b[1;32m~\\anaconda3\\Lib\\site-packages\\sklearn\\model_selection\\_search.py:519\u001b[0m, in \u001b[0;36mpredict\u001b[1;34m(self, X)\u001b[0m\n\u001b[0;32m    502\u001b[0m \u001b[38;5;129m@available_if\u001b[39m(_estimator_has(\u001b[38;5;124m\"\u001b[39m\u001b[38;5;124mpredict_proba\u001b[39m\u001b[38;5;124m\"\u001b[39m))\n\u001b[0;32m    503\u001b[0m \u001b[38;5;28;01mdef\u001b[39;00m \u001b[38;5;21mpredict_proba\u001b[39m(\u001b[38;5;28mself\u001b[39m, X):\n\u001b[0;32m    504\u001b[0m \u001b[38;5;250m    \u001b[39m\u001b[38;5;124;03m\"\"\"Call predict_proba on the estimator with the best found parameters.\u001b[39;00m\n\u001b[0;32m    505\u001b[0m \n\u001b[0;32m    506\u001b[0m \u001b[38;5;124;03m    Only available if ``refit=True`` and the underlying estimator supports\u001b[39;00m\n\u001b[0;32m    507\u001b[0m \u001b[38;5;124;03m    ``predict_proba``.\u001b[39;00m\n\u001b[0;32m    508\u001b[0m \n\u001b[0;32m    509\u001b[0m \u001b[38;5;124;03m    Parameters\u001b[39;00m\n\u001b[0;32m    510\u001b[0m \u001b[38;5;124;03m    ----------\u001b[39;00m\n\u001b[0;32m    511\u001b[0m \u001b[38;5;124;03m    X : indexable, length n_samples\u001b[39;00m\n\u001b[0;32m    512\u001b[0m \u001b[38;5;124;03m        Must fulfill the input assumptions of the\u001b[39;00m\n\u001b[0;32m    513\u001b[0m \u001b[38;5;124;03m        underlying estimator.\u001b[39;00m\n\u001b[0;32m    514\u001b[0m \n\u001b[0;32m    515\u001b[0m \u001b[38;5;124;03m    Returns\u001b[39;00m\n\u001b[0;32m    516\u001b[0m \u001b[38;5;124;03m    -------\u001b[39;00m\n\u001b[0;32m    517\u001b[0m \u001b[38;5;124;03m    y_pred : ndarray of shape (n_samples,) or (n_samples, n_classes)\u001b[39;00m\n\u001b[0;32m    518\u001b[0m \u001b[38;5;124;03m        Predicted class probabilities for `X` based on the estimator with\u001b[39;00m\n\u001b[1;32m--> 519\u001b[0m \u001b[38;5;124;03m        the best found parameters. The order of the classes corresponds\u001b[39;00m\n\u001b[0;32m    520\u001b[0m \u001b[38;5;124;03m        to that in the fitted attribute :term:`classes_`.\u001b[39;00m\n\u001b[0;32m    521\u001b[0m \u001b[38;5;124;03m    \"\"\"\u001b[39;00m\n\u001b[0;32m    522\u001b[0m     check_is_fitted(\u001b[38;5;28mself\u001b[39m)\n\u001b[0;32m    523\u001b[0m     \u001b[38;5;28;01mreturn\u001b[39;00m \u001b[38;5;28mself\u001b[39m\u001b[38;5;241m.\u001b[39mbest_estimator_\u001b[38;5;241m.\u001b[39mpredict_proba(X)\n",
      "File \u001b[1;32m~\\anaconda3\\Lib\\site-packages\\sklearn\\ensemble\\_forest.py:823\u001b[0m, in \u001b[0;36mpredict\u001b[1;34m(self, X)\u001b[0m\n\u001b[0;32m    811\u001b[0m \u001b[38;5;28;01mdef\u001b[39;00m \u001b[38;5;21mpredict\u001b[39m(\u001b[38;5;28mself\u001b[39m, X):\n\u001b[0;32m    812\u001b[0m \u001b[38;5;250m    \u001b[39m\u001b[38;5;124;03m\"\"\"\u001b[39;00m\n\u001b[0;32m    813\u001b[0m \u001b[38;5;124;03m    Predict class for X.\u001b[39;00m\n\u001b[0;32m    814\u001b[0m \n\u001b[0;32m    815\u001b[0m \u001b[38;5;124;03m    The predicted class of an input sample is a vote by the trees in\u001b[39;00m\n\u001b[0;32m    816\u001b[0m \u001b[38;5;124;03m    the forest, weighted by their probability estimates. That is,\u001b[39;00m\n\u001b[0;32m    817\u001b[0m \u001b[38;5;124;03m    the predicted class is the one with highest mean probability\u001b[39;00m\n\u001b[0;32m    818\u001b[0m \u001b[38;5;124;03m    estimate across the trees.\u001b[39;00m\n\u001b[0;32m    819\u001b[0m \n\u001b[0;32m    820\u001b[0m \u001b[38;5;124;03m    Parameters\u001b[39;00m\n\u001b[0;32m    821\u001b[0m \u001b[38;5;124;03m    ----------\u001b[39;00m\n\u001b[0;32m    822\u001b[0m \u001b[38;5;124;03m    X : {array-like, sparse matrix} of shape (n_samples, n_features)\u001b[39;00m\n\u001b[1;32m--> 823\u001b[0m \u001b[38;5;124;03m        The input samples. Internally, its dtype will be converted to\u001b[39;00m\n\u001b[0;32m    824\u001b[0m \u001b[38;5;124;03m        ``dtype=np.float32``. If a sparse matrix is provided, it will be\u001b[39;00m\n\u001b[0;32m    825\u001b[0m \u001b[38;5;124;03m        converted into a sparse ``csr_matrix``.\u001b[39;00m\n\u001b[0;32m    826\u001b[0m \n\u001b[0;32m    827\u001b[0m \u001b[38;5;124;03m    Returns\u001b[39;00m\n\u001b[0;32m    828\u001b[0m \u001b[38;5;124;03m    -------\u001b[39;00m\n\u001b[0;32m    829\u001b[0m \u001b[38;5;124;03m    y : ndarray of shape (n_samples,) or (n_samples, n_outputs)\u001b[39;00m\n\u001b[0;32m    830\u001b[0m \u001b[38;5;124;03m        The predicted classes.\u001b[39;00m\n\u001b[0;32m    831\u001b[0m \u001b[38;5;124;03m    \"\"\"\u001b[39;00m\n\u001b[0;32m    832\u001b[0m     proba \u001b[38;5;241m=\u001b[39m \u001b[38;5;28mself\u001b[39m\u001b[38;5;241m.\u001b[39mpredict_proba(X)\n\u001b[0;32m    834\u001b[0m     \u001b[38;5;28;01mif\u001b[39;00m \u001b[38;5;28mself\u001b[39m\u001b[38;5;241m.\u001b[39mn_outputs_ \u001b[38;5;241m==\u001b[39m \u001b[38;5;241m1\u001b[39m:\n",
      "File \u001b[1;32m~\\anaconda3\\Lib\\site-packages\\sklearn\\ensemble\\_forest.py:865\u001b[0m, in \u001b[0;36mpredict_proba\u001b[1;34m(self, X)\u001b[0m\n\u001b[0;32m    850\u001b[0m \u001b[38;5;28;01mdef\u001b[39;00m \u001b[38;5;21mpredict_proba\u001b[39m(\u001b[38;5;28mself\u001b[39m, X):\n\u001b[0;32m    851\u001b[0m \u001b[38;5;250m    \u001b[39m\u001b[38;5;124;03m\"\"\"\u001b[39;00m\n\u001b[0;32m    852\u001b[0m \u001b[38;5;124;03m    Predict class probabilities for X.\u001b[39;00m\n\u001b[0;32m    853\u001b[0m \n\u001b[0;32m    854\u001b[0m \u001b[38;5;124;03m    The predicted class probabilities of an input sample are computed as\u001b[39;00m\n\u001b[0;32m    855\u001b[0m \u001b[38;5;124;03m    the mean predicted class probabilities of the trees in the forest.\u001b[39;00m\n\u001b[0;32m    856\u001b[0m \u001b[38;5;124;03m    The class probability of a single tree is the fraction of samples of\u001b[39;00m\n\u001b[0;32m    857\u001b[0m \u001b[38;5;124;03m    the same class in a leaf.\u001b[39;00m\n\u001b[0;32m    858\u001b[0m \n\u001b[0;32m    859\u001b[0m \u001b[38;5;124;03m    Parameters\u001b[39;00m\n\u001b[0;32m    860\u001b[0m \u001b[38;5;124;03m    ----------\u001b[39;00m\n\u001b[0;32m    861\u001b[0m \u001b[38;5;124;03m    X : {array-like, sparse matrix} of shape (n_samples, n_features)\u001b[39;00m\n\u001b[0;32m    862\u001b[0m \u001b[38;5;124;03m        The input samples. Internally, its dtype will be converted to\u001b[39;00m\n\u001b[0;32m    863\u001b[0m \u001b[38;5;124;03m        ``dtype=np.float32``. If a sparse matrix is provided, it will be\u001b[39;00m\n\u001b[0;32m    864\u001b[0m \u001b[38;5;124;03m        converted into a sparse ``csr_matrix``.\u001b[39;00m\n\u001b[1;32m--> 865\u001b[0m \n\u001b[0;32m    866\u001b[0m \u001b[38;5;124;03m    Returns\u001b[39;00m\n\u001b[0;32m    867\u001b[0m \u001b[38;5;124;03m    -------\u001b[39;00m\n\u001b[0;32m    868\u001b[0m \u001b[38;5;124;03m    p : ndarray of shape (n_samples, n_classes), or a list of such arrays\u001b[39;00m\n\u001b[0;32m    869\u001b[0m \u001b[38;5;124;03m        The class probabilities of the input samples. The order of the\u001b[39;00m\n\u001b[0;32m    870\u001b[0m \u001b[38;5;124;03m        classes corresponds to that in the attribute :term:`classes_`.\u001b[39;00m\n\u001b[0;32m    871\u001b[0m \u001b[38;5;124;03m    \"\"\"\u001b[39;00m\n\u001b[0;32m    872\u001b[0m     check_is_fitted(\u001b[38;5;28mself\u001b[39m)\n\u001b[0;32m    873\u001b[0m     \u001b[38;5;66;03m# Check data\u001b[39;00m\n",
      "File \u001b[1;32m~\\anaconda3\\Lib\\site-packages\\sklearn\\ensemble\\_forest.py:599\u001b[0m, in \u001b[0;36m_validate_X_predict\u001b[1;34m(self, X)\u001b[0m\n\u001b[0;32m    597\u001b[0m \u001b[38;5;28;01mdef\u001b[39;00m \u001b[38;5;21m_validate_y_class_weight\u001b[39m(\u001b[38;5;28mself\u001b[39m, y):\n\u001b[0;32m    598\u001b[0m     \u001b[38;5;66;03m# Default implementation\u001b[39;00m\n\u001b[1;32m--> 599\u001b[0m     \u001b[38;5;28;01mreturn\u001b[39;00m y, \u001b[38;5;28;01mNone\u001b[39;00m\n",
      "File \u001b[1;32m~\\anaconda3\\Lib\\site-packages\\sklearn\\base.py:579\u001b[0m, in \u001b[0;36m_validate_data\u001b[1;34m(self, X, y, reset, validate_separately, cast_to_ndarray, **check_params)\u001b[0m\n\u001b[0;32m    577\u001b[0m     X \u001b[38;5;241m=\u001b[39m check_array(X, input_name\u001b[38;5;241m=\u001b[39m\u001b[38;5;124m\"\u001b[39m\u001b[38;5;124mX\u001b[39m\u001b[38;5;124m\"\u001b[39m, \u001b[38;5;241m*\u001b[39m\u001b[38;5;241m*\u001b[39mcheck_params)\n\u001b[0;32m    578\u001b[0m     out \u001b[38;5;241m=\u001b[39m X\n\u001b[1;32m--> 579\u001b[0m \u001b[38;5;28;01melif\u001b[39;00m no_val_X \u001b[38;5;129;01mand\u001b[39;00m \u001b[38;5;129;01mnot\u001b[39;00m no_val_y:\n\u001b[0;32m    580\u001b[0m     y \u001b[38;5;241m=\u001b[39m _check_y(y, \u001b[38;5;241m*\u001b[39m\u001b[38;5;241m*\u001b[39mcheck_params)\n\u001b[0;32m    581\u001b[0m     out \u001b[38;5;241m=\u001b[39m y\n",
      "File \u001b[1;32m~\\anaconda3\\Lib\\site-packages\\sklearn\\base.py:506\u001b[0m, in \u001b[0;36m_check_feature_names\u001b[1;34m(self, X, reset)\u001b[0m\n\u001b[0;32m    495\u001b[0m \u001b[38;5;28;01mdef\u001b[39;00m \u001b[38;5;21m_validate_data\u001b[39m(\n\u001b[0;32m    496\u001b[0m     \u001b[38;5;28mself\u001b[39m,\n\u001b[0;32m    497\u001b[0m     X\u001b[38;5;241m=\u001b[39m\u001b[38;5;124m\"\u001b[39m\u001b[38;5;124mno_validation\u001b[39m\u001b[38;5;124m\"\u001b[39m,\n\u001b[1;32m   (...)\u001b[0m\n\u001b[0;32m    501\u001b[0m     \u001b[38;5;241m*\u001b[39m\u001b[38;5;241m*\u001b[39mcheck_params,\n\u001b[0;32m    502\u001b[0m ):\n\u001b[0;32m    503\u001b[0m \u001b[38;5;250m    \u001b[39m\u001b[38;5;124;03m\"\"\"Validate input data and set or check the `n_features_in_` attribute.\u001b[39;00m\n\u001b[0;32m    504\u001b[0m \n\u001b[0;32m    505\u001b[0m \u001b[38;5;124;03m    Parameters\u001b[39;00m\n\u001b[1;32m--> 506\u001b[0m \u001b[38;5;124;03m    ----------\u001b[39;00m\n\u001b[0;32m    507\u001b[0m \u001b[38;5;124;03m    X : {array-like, sparse matrix, dataframe} of shape \\\u001b[39;00m\n\u001b[0;32m    508\u001b[0m \u001b[38;5;124;03m            (n_samples, n_features), default='no validation'\u001b[39;00m\n\u001b[0;32m    509\u001b[0m \u001b[38;5;124;03m        The input samples.\u001b[39;00m\n\u001b[0;32m    510\u001b[0m \u001b[38;5;124;03m        If `'no_validation'`, no validation is performed on `X`. This is\u001b[39;00m\n\u001b[0;32m    511\u001b[0m \u001b[38;5;124;03m        useful for meta-estimator which can delegate input validation to\u001b[39;00m\n\u001b[0;32m    512\u001b[0m \u001b[38;5;124;03m        their underlying estimator(s). In that case `y` must be passed and\u001b[39;00m\n\u001b[0;32m    513\u001b[0m \u001b[38;5;124;03m        the only accepted `check_params` are `multi_output` and\u001b[39;00m\n\u001b[0;32m    514\u001b[0m \u001b[38;5;124;03m        `y_numeric`.\u001b[39;00m\n\u001b[0;32m    515\u001b[0m \n\u001b[0;32m    516\u001b[0m \u001b[38;5;124;03m    y : array-like of shape (n_samples,), default='no_validation'\u001b[39;00m\n\u001b[0;32m    517\u001b[0m \u001b[38;5;124;03m        The targets.\u001b[39;00m\n\u001b[0;32m    518\u001b[0m \n\u001b[0;32m    519\u001b[0m \u001b[38;5;124;03m        - If `None`, `check_array` is called on `X`. If the estimator's\u001b[39;00m\n\u001b[0;32m    520\u001b[0m \u001b[38;5;124;03m          requires_y tag is True, then an error will be raised.\u001b[39;00m\n\u001b[0;32m    521\u001b[0m \u001b[38;5;124;03m        - If `'no_validation'`, `check_array` is called on `X` and the\u001b[39;00m\n\u001b[0;32m    522\u001b[0m \u001b[38;5;124;03m          estimator's requires_y tag is ignored. This is a default\u001b[39;00m\n\u001b[0;32m    523\u001b[0m \u001b[38;5;124;03m          placeholder and is never meant to be explicitly set. In that case\u001b[39;00m\n\u001b[0;32m    524\u001b[0m \u001b[38;5;124;03m          `X` must be passed.\u001b[39;00m\n\u001b[0;32m    525\u001b[0m \u001b[38;5;124;03m        - Otherwise, only `y` with `_check_y` or both `X` and `y` are\u001b[39;00m\n\u001b[0;32m    526\u001b[0m \u001b[38;5;124;03m          checked with either `check_array` or `check_X_y` depending on\u001b[39;00m\n\u001b[0;32m    527\u001b[0m \u001b[38;5;124;03m          `validate_separately`.\u001b[39;00m\n\u001b[0;32m    528\u001b[0m \n\u001b[0;32m    529\u001b[0m \u001b[38;5;124;03m    reset : bool, default=True\u001b[39;00m\n\u001b[0;32m    530\u001b[0m \u001b[38;5;124;03m        Whether to reset the `n_features_in_` attribute.\u001b[39;00m\n\u001b[0;32m    531\u001b[0m \u001b[38;5;124;03m        If False, the input will be checked for consistency with data\u001b[39;00m\n\u001b[0;32m    532\u001b[0m \u001b[38;5;124;03m        provided when reset was last True.\u001b[39;00m\n\u001b[0;32m    533\u001b[0m \u001b[38;5;124;03m        .. note::\u001b[39;00m\n\u001b[0;32m    534\u001b[0m \u001b[38;5;124;03m           It is recommended to call reset=True in `fit` and in the first\u001b[39;00m\n\u001b[0;32m    535\u001b[0m \u001b[38;5;124;03m           call to `partial_fit`. All other methods that validate `X`\u001b[39;00m\n\u001b[0;32m    536\u001b[0m \u001b[38;5;124;03m           should set `reset=False`.\u001b[39;00m\n\u001b[0;32m    537\u001b[0m \n\u001b[0;32m    538\u001b[0m \u001b[38;5;124;03m    validate_separately : False or tuple of dicts, default=False\u001b[39;00m\n\u001b[0;32m    539\u001b[0m \u001b[38;5;124;03m        Only used if y is not None.\u001b[39;00m\n\u001b[0;32m    540\u001b[0m \u001b[38;5;124;03m        If False, call validate_X_y(). Else, it must be a tuple of kwargs\u001b[39;00m\n\u001b[0;32m    541\u001b[0m \u001b[38;5;124;03m        to be used for calling check_array() on X and y respectively.\u001b[39;00m\n\u001b[0;32m    542\u001b[0m \n\u001b[0;32m    543\u001b[0m \u001b[38;5;124;03m        `estimator=self` is automatically added to these dicts to generate\u001b[39;00m\n\u001b[0;32m    544\u001b[0m \u001b[38;5;124;03m        more informative error message in case of invalid input data.\u001b[39;00m\n\u001b[0;32m    545\u001b[0m \n\u001b[0;32m    546\u001b[0m \u001b[38;5;124;03m    **check_params : kwargs\u001b[39;00m\n\u001b[0;32m    547\u001b[0m \u001b[38;5;124;03m        Parameters passed to :func:`sklearn.utils.check_array` or\u001b[39;00m\n\u001b[0;32m    548\u001b[0m \u001b[38;5;124;03m        :func:`sklearn.utils.check_X_y`. Ignored if validate_separately\u001b[39;00m\n\u001b[0;32m    549\u001b[0m \u001b[38;5;124;03m        is not False.\u001b[39;00m\n\u001b[0;32m    550\u001b[0m \n\u001b[0;32m    551\u001b[0m \u001b[38;5;124;03m        `estimator=self` is automatically added to these params to generate\u001b[39;00m\n\u001b[0;32m    552\u001b[0m \u001b[38;5;124;03m        more informative error message in case of invalid input data.\u001b[39;00m\n\u001b[0;32m    553\u001b[0m \n\u001b[0;32m    554\u001b[0m \u001b[38;5;124;03m    Returns\u001b[39;00m\n\u001b[0;32m    555\u001b[0m \u001b[38;5;124;03m    -------\u001b[39;00m\n\u001b[0;32m    556\u001b[0m \u001b[38;5;124;03m    out : {ndarray, sparse matrix} or tuple of these\u001b[39;00m\n\u001b[0;32m    557\u001b[0m \u001b[38;5;124;03m        The validated input. A tuple is returned if both `X` and `y` are\u001b[39;00m\n\u001b[0;32m    558\u001b[0m \u001b[38;5;124;03m        validated.\u001b[39;00m\n\u001b[0;32m    559\u001b[0m \u001b[38;5;124;03m    \"\"\"\u001b[39;00m\n\u001b[0;32m    560\u001b[0m     \u001b[38;5;28mself\u001b[39m\u001b[38;5;241m.\u001b[39m_check_feature_names(X, reset\u001b[38;5;241m=\u001b[39mreset)\n\u001b[0;32m    562\u001b[0m     \u001b[38;5;28;01mif\u001b[39;00m y \u001b[38;5;129;01mis\u001b[39;00m \u001b[38;5;28;01mNone\u001b[39;00m \u001b[38;5;129;01mand\u001b[39;00m \u001b[38;5;28mself\u001b[39m\u001b[38;5;241m.\u001b[39m_get_tags()[\u001b[38;5;124m\"\u001b[39m\u001b[38;5;124mrequires_y\u001b[39m\u001b[38;5;124m\"\u001b[39m]:\n",
      "\u001b[1;31mValueError\u001b[0m: The feature names should match those that were passed during fit.\nFeature names unseen at fit time:\n- admin_ID_ALB.12_1\n- admin_ID_ALB.9_1\n- admin_ID_ARM.7_1\n- admin_ID_AUS.5_1\n- admin_ID_BDI.10_1\n- ...\nFeature names seen at fit time, yet now missing:\n- admin_ID_AGO.4_1\n- admin_ID_AGO.6_1\n- admin_ID_ARG.4_1\n- admin_ID_ARG.6_1\n- admin_ID_AUS.10_1\n- ...\n"
     ]
    }
   ],
   "source": [
    "predicted_labels = pf_PredictNewData(NEW_DATA, clf, group_encoder)"
   ]
  },
  {
   "cell_type": "code",
   "execution_count": null,
   "id": "a4e31f15",
   "metadata": {},
   "outputs": [],
   "source": []
  }
 ],
 "metadata": {
  "kernelspec": {
   "display_name": "Python 3 (ipykernel)",
   "language": "python",
   "name": "python3"
  },
  "language_info": {
   "codemirror_mode": {
    "name": "ipython",
    "version": 3
   },
   "file_extension": ".py",
   "mimetype": "text/x-python",
   "name": "python",
   "nbconvert_exporter": "python",
   "pygments_lexer": "ipython3",
   "version": "3.11.5"
  }
 },
 "nbformat": 4,
 "nbformat_minor": 5
}
